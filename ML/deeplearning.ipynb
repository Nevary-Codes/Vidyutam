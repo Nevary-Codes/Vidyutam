{
 "cells": [
  {
   "cell_type": "code",
   "execution_count": 70,
   "metadata": {},
   "outputs": [],
   "source": [
    "from sklearn.model_selection import train_test_split\n",
    "import matplotlib.pyplot as plt\n",
    "import pandas as pd\n",
    "import numpy as np\n",
    "from sklearn.metrics import mean_absolute_error, r2_score\n",
    "\n",
    "\n",
    "import tensorflow as tf\n",
    "import keras\n",
    "from keras.layers import Dense\n",
    "from keras.models import Sequential\n",
    "from keras.callbacks import EarlyStopping\n",
    "from keras.layers import LSTM\n",
    "from keras.layers import Dropout"
   ]
  },
  {
   "cell_type": "code",
   "execution_count": 71,
   "metadata": {},
   "outputs": [],
   "source": [
    "result = pd.read_csv(\"trainingset.csv\").drop(\"Unnamed: 0\", axis=1)\n",
    "result = result.astype(np.float32)"
   ]
  },
  {
   "cell_type": "code",
   "execution_count": 72,
   "metadata": {},
   "outputs": [],
   "source": [
    "X = result.drop(\"Hourly Demand Met (in MW)\", axis=1)\n",
    "y = result[\"Hourly Demand Met (in MW)\"]"
   ]
  },
  {
   "cell_type": "code",
   "execution_count": 78,
   "metadata": {},
   "outputs": [
    {
     "name": "stdout",
     "output_type": "stream",
     "text": [
      "(56083, 14)\n",
      "(56083, 14, 1)\n"
     ]
    }
   ],
   "source": [
    "train_X, test_X, train_y, test_y = train_test_split(X, y ,test_size=0.2)\n",
    "train_X = train_X.values\n",
    "print(train_X.shape)\n",
    "train_X = train_X.reshape((train_X.shape[0], train_X.shape[1], 1))\n",
    "print(train_X.shape)\n",
    "\n",
    "train_y = train_y.values\n",
    "\n",
    "test_X = test_X.values\n",
    "test_X = test_X.reshape((test_X.shape[0], test_X.shape[1], 1))\n",
    "\n",
    "test_y = test_y.values"
   ]
  },
  {
   "cell_type": "code",
   "execution_count": 75,
   "metadata": {},
   "outputs": [],
   "source": [
    "import datetime\n",
    "import os\n",
    "\n",
    "def create_tensorboard_callback():\n",
    "    logdir = os.path.join(\"Logs\",\n",
    "    datetime.datetime.now().strftime(\"%Y%m%d-%H%M%S\"))\n",
    "    \n",
    "    return tf.keras.callbacks.TensorBoard(logdir)"
   ]
  },
  {
   "cell_type": "code",
   "execution_count": 76,
   "metadata": {},
   "outputs": [],
   "source": [
    "early_stopping = tf.keras.callbacks.EarlyStopping(monitor=\"val_loss\",\n",
    "                                                  patience=3)"
   ]
  },
  {
   "cell_type": "code",
   "execution_count": 80,
   "metadata": {},
   "outputs": [
    {
     "name": "stdout",
     "output_type": "stream",
     "text": [
      "Epoch 1/10\n"
     ]
    },
    {
     "name": "stderr",
     "output_type": "stream",
     "text": [
      "2024-08-31 20:22:39.924301: I tensorflow/core/common_runtime/executor.cc:1197] [/device:CPU:0] (DEBUG INFO) Executor start aborting (this does not indicate an error and you can ignore this message): INVALID_ARGUMENT: You must feed a value for placeholder tensor 'gradients/split_2_grad/concat/split_2/split_dim' with dtype int32\n",
      "\t [[{{node gradients/split_2_grad/concat/split_2/split_dim}}]]\n",
      "2024-08-31 20:22:39.925332: I tensorflow/core/common_runtime/executor.cc:1197] [/device:CPU:0] (DEBUG INFO) Executor start aborting (this does not indicate an error and you can ignore this message): INVALID_ARGUMENT: You must feed a value for placeholder tensor 'gradients/split_grad/concat/split/split_dim' with dtype int32\n",
      "\t [[{{node gradients/split_grad/concat/split/split_dim}}]]\n",
      "2024-08-31 20:22:39.925861: I tensorflow/core/common_runtime/executor.cc:1197] [/device:CPU:0] (DEBUG INFO) Executor start aborting (this does not indicate an error and you can ignore this message): INVALID_ARGUMENT: You must feed a value for placeholder tensor 'gradients/split_1_grad/concat/split_1/split_dim' with dtype int32\n",
      "\t [[{{node gradients/split_1_grad/concat/split_1/split_dim}}]]\n",
      "2024-08-31 20:22:40.096000: I tensorflow/core/common_runtime/executor.cc:1197] [/device:CPU:0] (DEBUG INFO) Executor start aborting (this does not indicate an error and you can ignore this message): INVALID_ARGUMENT: You must feed a value for placeholder tensor 'gradients/split_2_grad/concat/split_2/split_dim' with dtype int32\n",
      "\t [[{{node gradients/split_2_grad/concat/split_2/split_dim}}]]\n",
      "2024-08-31 20:22:40.096610: I tensorflow/core/common_runtime/executor.cc:1197] [/device:CPU:0] (DEBUG INFO) Executor start aborting (this does not indicate an error and you can ignore this message): INVALID_ARGUMENT: You must feed a value for placeholder tensor 'gradients/split_grad/concat/split/split_dim' with dtype int32\n",
      "\t [[{{node gradients/split_grad/concat/split/split_dim}}]]\n",
      "2024-08-31 20:22:40.097220: I tensorflow/core/common_runtime/executor.cc:1197] [/device:CPU:0] (DEBUG INFO) Executor start aborting (this does not indicate an error and you can ignore this message): INVALID_ARGUMENT: You must feed a value for placeholder tensor 'gradients/split_1_grad/concat/split_1/split_dim' with dtype int32\n",
      "\t [[{{node gradients/split_1_grad/concat/split_1/split_dim}}]]\n",
      "2024-08-31 20:22:40.382366: I tensorflow/core/common_runtime/executor.cc:1197] [/device:CPU:0] (DEBUG INFO) Executor start aborting (this does not indicate an error and you can ignore this message): INVALID_ARGUMENT: You must feed a value for placeholder tensor 'gradients/split_2_grad/concat/split_2/split_dim' with dtype int32\n",
      "\t [[{{node gradients/split_2_grad/concat/split_2/split_dim}}]]\n",
      "2024-08-31 20:22:40.383540: I tensorflow/core/common_runtime/executor.cc:1197] [/device:CPU:0] (DEBUG INFO) Executor start aborting (this does not indicate an error and you can ignore this message): INVALID_ARGUMENT: You must feed a value for placeholder tensor 'gradients/split_grad/concat/split/split_dim' with dtype int32\n",
      "\t [[{{node gradients/split_grad/concat/split/split_dim}}]]\n",
      "2024-08-31 20:22:40.384238: I tensorflow/core/common_runtime/executor.cc:1197] [/device:CPU:0] (DEBUG INFO) Executor start aborting (this does not indicate an error and you can ignore this message): INVALID_ARGUMENT: You must feed a value for placeholder tensor 'gradients/split_1_grad/concat/split_1/split_dim' with dtype int32\n",
      "\t [[{{node gradients/split_1_grad/concat/split_1/split_dim}}]]\n",
      "2024-08-31 20:22:48.818325: I tensorflow/core/common_runtime/executor.cc:1197] [/device:CPU:0] (DEBUG INFO) Executor start aborting (this does not indicate an error and you can ignore this message): INVALID_ARGUMENT: You must feed a value for placeholder tensor 'gradients/split_2_grad/concat/split_2/split_dim' with dtype int32\n",
      "\t [[{{node gradients/split_2_grad/concat/split_2/split_dim}}]]\n",
      "2024-08-31 20:22:48.819068: I tensorflow/core/common_runtime/executor.cc:1197] [/device:CPU:0] (DEBUG INFO) Executor start aborting (this does not indicate an error and you can ignore this message): INVALID_ARGUMENT: You must feed a value for placeholder tensor 'gradients/split_grad/concat/split/split_dim' with dtype int32\n",
      "\t [[{{node gradients/split_grad/concat/split/split_dim}}]]\n",
      "2024-08-31 20:22:48.819599: I tensorflow/core/common_runtime/executor.cc:1197] [/device:CPU:0] (DEBUG INFO) Executor start aborting (this does not indicate an error and you can ignore this message): INVALID_ARGUMENT: You must feed a value for placeholder tensor 'gradients/split_1_grad/concat/split_1/split_dim' with dtype int32\n",
      "\t [[{{node gradients/split_1_grad/concat/split_1/split_dim}}]]\n"
     ]
    },
    {
     "name": "stdout",
     "output_type": "stream",
     "text": [
      "1753/1753 - 10s - loss: 3592.1868 - val_loss: 3500.8750 - 10s/epoch - 6ms/step\n",
      "Epoch 2/10\n",
      "1753/1753 - 9s - loss: 3416.1982 - val_loss: 3325.7971 - 9s/epoch - 5ms/step\n",
      "Epoch 3/10\n",
      "1753/1753 - 8s - loss: 3242.5730 - val_loss: 3152.7183 - 8s/epoch - 5ms/step\n",
      "Epoch 4/10\n",
      "1753/1753 - 8s - loss: 3069.5374 - val_loss: 2979.8154 - 8s/epoch - 5ms/step\n",
      "Epoch 5/10\n",
      "1753/1753 - 8s - loss: 2895.5361 - val_loss: 2804.1641 - 8s/epoch - 5ms/step\n",
      "Epoch 6/10\n",
      "1753/1753 - 8s - loss: 2718.6541 - val_loss: 2626.6824 - 8s/epoch - 5ms/step\n",
      "Epoch 7/10\n",
      "1753/1753 - 8s - loss: 2542.2285 - val_loss: 2450.3391 - 8s/epoch - 5ms/step\n",
      "Epoch 8/10\n",
      "1753/1753 - 9s - loss: 2365.3445 - val_loss: 2274.5327 - 9s/epoch - 5ms/step\n",
      "Epoch 9/10\n",
      "1753/1753 - 8s - loss: 2193.4910 - val_loss: 2106.3530 - 8s/epoch - 5ms/step\n",
      "Epoch 10/10\n",
      "1753/1753 - 8s - loss: 2032.5897 - val_loss: 1952.6210 - 8s/epoch - 5ms/step\n"
     ]
    },
    {
     "data": {
      "text/plain": [
       "<keras.callbacks.History at 0x31bc8b6d0>"
      ]
     },
     "execution_count": 80,
     "metadata": {},
     "output_type": "execute_result"
    }
   ],
   "source": [
    "tensorboard = create_tensorboard_callback()\n",
    "\n",
    "model = Sequential()\n",
    "model.add(LSTM(100, input_shape=(train_X.shape[1], train_X.shape[2])))\n",
    "model.add(Dropout(0.2))\n",
    "model.add(Dense(1))\n",
    "model.compile(loss='mean_absolute_error', optimizer='adam')\n",
    "\n",
    "model.fit(train_X, train_y, epochs=100, batch_size=32, validation_data=(test_X, test_y), verbose=2, shuffle=False, callbacks=[tensorboard, early_stopping])"
   ]
  },
  {
   "cell_type": "code",
   "execution_count": null,
   "metadata": {},
   "outputs": [
    {
     "name": "stderr",
     "output_type": "stream",
     "text": [
      "UsageError: Line magic function `%tensorboard` not found.\n"
     ]
    }
   ],
   "source": [
    "%tensorboard --logdir /Logs"
   ]
  },
  {
   "cell_type": "code",
   "execution_count": null,
   "metadata": {},
   "outputs": [
    {
     "name": "stdout",
     "output_type": "stream",
     "text": [
      " 31/384 [=>............................] - ETA: 0s  "
     ]
    },
    {
     "name": "stderr",
     "output_type": "stream",
     "text": [
      "2024-08-31 18:53:48.163711: I tensorflow/core/common_runtime/executor.cc:1197] [/device:CPU:0] (DEBUG INFO) Executor start aborting (this does not indicate an error and you can ignore this message): INVALID_ARGUMENT: You must feed a value for placeholder tensor 'gradients/split_2_grad/concat/split_2/split_dim' with dtype int32\n",
      "\t [[{{node gradients/split_2_grad/concat/split_2/split_dim}}]]\n",
      "2024-08-31 18:53:48.164483: I tensorflow/core/common_runtime/executor.cc:1197] [/device:CPU:0] (DEBUG INFO) Executor start aborting (this does not indicate an error and you can ignore this message): INVALID_ARGUMENT: You must feed a value for placeholder tensor 'gradients/split_grad/concat/split/split_dim' with dtype int32\n",
      "\t [[{{node gradients/split_grad/concat/split/split_dim}}]]\n",
      "2024-08-31 18:53:48.165041: I tensorflow/core/common_runtime/executor.cc:1197] [/device:CPU:0] (DEBUG INFO) Executor start aborting (this does not indicate an error and you can ignore this message): INVALID_ARGUMENT: You must feed a value for placeholder tensor 'gradients/split_1_grad/concat/split_1/split_dim' with dtype int32\n",
      "\t [[{{node gradients/split_1_grad/concat/split_1/split_dim}}]]\n"
     ]
    },
    {
     "name": "stdout",
     "output_type": "stream",
     "text": [
      "384/384 [==============================] - 1s 2ms/step\n"
     ]
    }
   ],
   "source": [
    "y_preds = model.predict(test_X)"
   ]
  },
  {
   "cell_type": "code",
   "execution_count": null,
   "metadata": {},
   "outputs": [
    {
     "data": {
      "text/plain": [
       "551.6644"
      ]
     },
     "execution_count": 64,
     "metadata": {},
     "output_type": "execute_result"
    }
   ],
   "source": [
    "mean_absolute_error(y_preds, test_y)"
   ]
  },
  {
   "cell_type": "code",
   "execution_count": null,
   "metadata": {},
   "outputs": [
    {
     "data": {
      "text/plain": [
       "array([[2938.0857],\n",
       "       [4529.811 ],\n",
       "       [4709.7827],\n",
       "       ...,\n",
       "       [2689.0618],\n",
       "       [4296.993 ],\n",
       "       [2692.046 ]], dtype=float32)"
      ]
     },
     "execution_count": 65,
     "metadata": {},
     "output_type": "execute_result"
    }
   ],
   "source": [
    "y_preds"
   ]
  },
  {
   "cell_type": "code",
   "execution_count": null,
   "metadata": {},
   "outputs": [
    {
     "name": "stdout",
     "output_type": "stream",
     "text": [
      "Epoch 1/150\n"
     ]
    },
    {
     "name": "stderr",
     "output_type": "stream",
     "text": [
      "2024-08-31 18:56:36.748030: I tensorflow/core/common_runtime/executor.cc:1197] [/device:CPU:0] (DEBUG INFO) Executor start aborting (this does not indicate an error and you can ignore this message): INVALID_ARGUMENT: You must feed a value for placeholder tensor 'gradients/split_2_grad/concat/split_2/split_dim' with dtype int32\n",
      "\t [[{{node gradients/split_2_grad/concat/split_2/split_dim}}]]\n",
      "2024-08-31 18:56:36.748704: I tensorflow/core/common_runtime/executor.cc:1197] [/device:CPU:0] (DEBUG INFO) Executor start aborting (this does not indicate an error and you can ignore this message): INVALID_ARGUMENT: You must feed a value for placeholder tensor 'gradients/split_grad/concat/split/split_dim' with dtype int32\n",
      "\t [[{{node gradients/split_grad/concat/split/split_dim}}]]\n",
      "2024-08-31 18:56:36.749322: I tensorflow/core/common_runtime/executor.cc:1197] [/device:CPU:0] (DEBUG INFO) Executor start aborting (this does not indicate an error and you can ignore this message): INVALID_ARGUMENT: You must feed a value for placeholder tensor 'gradients/split_1_grad/concat/split_1/split_dim' with dtype int32\n",
      "\t [[{{node gradients/split_1_grad/concat/split_1/split_dim}}]]\n",
      "2024-08-31 18:56:36.820707: I tensorflow/core/common_runtime/executor.cc:1197] [/device:CPU:0] (DEBUG INFO) Executor start aborting (this does not indicate an error and you can ignore this message): INVALID_ARGUMENT: You must feed a value for placeholder tensor 'gradients/ReverseV2_grad/ReverseV2/ReverseV2/axis' with dtype int32 and shape [1]\n",
      "\t [[{{node gradients/ReverseV2_grad/ReverseV2/ReverseV2/axis}}]]\n",
      "2024-08-31 18:56:36.845978: I tensorflow/core/common_runtime/executor.cc:1197] [/device:CPU:0] (DEBUG INFO) Executor start aborting (this does not indicate an error and you can ignore this message): INVALID_ARGUMENT: You must feed a value for placeholder tensor 'gradients/split_2_grad/concat/split_2/split_dim' with dtype int32\n",
      "\t [[{{node gradients/split_2_grad/concat/split_2/split_dim}}]]\n",
      "2024-08-31 18:56:36.846624: I tensorflow/core/common_runtime/executor.cc:1197] [/device:CPU:0] (DEBUG INFO) Executor start aborting (this does not indicate an error and you can ignore this message): INVALID_ARGUMENT: You must feed a value for placeholder tensor 'gradients/split_grad/concat/split/split_dim' with dtype int32\n",
      "\t [[{{node gradients/split_grad/concat/split/split_dim}}]]\n",
      "2024-08-31 18:56:36.847218: I tensorflow/core/common_runtime/executor.cc:1197] [/device:CPU:0] (DEBUG INFO) Executor start aborting (this does not indicate an error and you can ignore this message): INVALID_ARGUMENT: You must feed a value for placeholder tensor 'gradients/split_1_grad/concat/split_1/split_dim' with dtype int32\n",
      "\t [[{{node gradients/split_1_grad/concat/split_1/split_dim}}]]\n",
      "2024-08-31 18:56:36.945162: I tensorflow/core/common_runtime/executor.cc:1197] [/device:CPU:0] (DEBUG INFO) Executor start aborting (this does not indicate an error and you can ignore this message): INVALID_ARGUMENT: You must feed a value for placeholder tensor 'gradients/split_2_grad/concat/split_2/split_dim' with dtype int32\n",
      "\t [[{{node gradients/split_2_grad/concat/split_2/split_dim}}]]\n",
      "2024-08-31 18:56:36.945776: I tensorflow/core/common_runtime/executor.cc:1197] [/device:CPU:0] (DEBUG INFO) Executor start aborting (this does not indicate an error and you can ignore this message): INVALID_ARGUMENT: You must feed a value for placeholder tensor 'gradients/split_grad/concat/split/split_dim' with dtype int32\n",
      "\t [[{{node gradients/split_grad/concat/split/split_dim}}]]\n",
      "2024-08-31 18:56:36.947240: I tensorflow/core/common_runtime/executor.cc:1197] [/device:CPU:0] (DEBUG INFO) Executor start aborting (this does not indicate an error and you can ignore this message): INVALID_ARGUMENT: You must feed a value for placeholder tensor 'gradients/split_1_grad/concat/split_1/split_dim' with dtype int32\n",
      "\t [[{{node gradients/split_1_grad/concat/split_1/split_dim}}]]\n",
      "2024-08-31 18:56:37.057334: I tensorflow/core/common_runtime/executor.cc:1197] [/device:CPU:0] (DEBUG INFO) Executor start aborting (this does not indicate an error and you can ignore this message): INVALID_ARGUMENT: You must feed a value for placeholder tensor 'gradients/split_2_grad/concat/split_2/split_dim' with dtype int32\n",
      "\t [[{{node gradients/split_2_grad/concat/split_2/split_dim}}]]\n",
      "2024-08-31 18:56:37.057961: I tensorflow/core/common_runtime/executor.cc:1197] [/device:CPU:0] (DEBUG INFO) Executor start aborting (this does not indicate an error and you can ignore this message): INVALID_ARGUMENT: You must feed a value for placeholder tensor 'gradients/split_grad/concat/split/split_dim' with dtype int32\n",
      "\t [[{{node gradients/split_grad/concat/split/split_dim}}]]\n",
      "2024-08-31 18:56:37.058786: I tensorflow/core/common_runtime/executor.cc:1197] [/device:CPU:0] (DEBUG INFO) Executor start aborting (this does not indicate an error and you can ignore this message): INVALID_ARGUMENT: You must feed a value for placeholder tensor 'gradients/split_1_grad/concat/split_1/split_dim' with dtype int32\n",
      "\t [[{{node gradients/split_1_grad/concat/split_1/split_dim}}]]\n",
      "2024-08-31 18:56:37.129637: I tensorflow/core/common_runtime/executor.cc:1197] [/device:CPU:0] (DEBUG INFO) Executor start aborting (this does not indicate an error and you can ignore this message): INVALID_ARGUMENT: You must feed a value for placeholder tensor 'gradients/ReverseV2_grad/ReverseV2/ReverseV2/axis' with dtype int32 and shape [1]\n",
      "\t [[{{node gradients/ReverseV2_grad/ReverseV2/ReverseV2/axis}}]]\n",
      "2024-08-31 18:56:37.155321: I tensorflow/core/common_runtime/executor.cc:1197] [/device:CPU:0] (DEBUG INFO) Executor start aborting (this does not indicate an error and you can ignore this message): INVALID_ARGUMENT: You must feed a value for placeholder tensor 'gradients/split_2_grad/concat/split_2/split_dim' with dtype int32\n",
      "\t [[{{node gradients/split_2_grad/concat/split_2/split_dim}}]]\n",
      "2024-08-31 18:56:37.155950: I tensorflow/core/common_runtime/executor.cc:1197] [/device:CPU:0] (DEBUG INFO) Executor start aborting (this does not indicate an error and you can ignore this message): INVALID_ARGUMENT: You must feed a value for placeholder tensor 'gradients/split_grad/concat/split/split_dim' with dtype int32\n",
      "\t [[{{node gradients/split_grad/concat/split/split_dim}}]]\n",
      "2024-08-31 18:56:37.156640: I tensorflow/core/common_runtime/executor.cc:1197] [/device:CPU:0] (DEBUG INFO) Executor start aborting (this does not indicate an error and you can ignore this message): INVALID_ARGUMENT: You must feed a value for placeholder tensor 'gradients/split_1_grad/concat/split_1/split_dim' with dtype int32\n",
      "\t [[{{node gradients/split_1_grad/concat/split_1/split_dim}}]]\n",
      "2024-08-31 18:56:37.246004: I tensorflow/core/common_runtime/executor.cc:1197] [/device:CPU:0] (DEBUG INFO) Executor start aborting (this does not indicate an error and you can ignore this message): INVALID_ARGUMENT: You must feed a value for placeholder tensor 'gradients/split_2_grad/concat/split_2/split_dim' with dtype int32\n",
      "\t [[{{node gradients/split_2_grad/concat/split_2/split_dim}}]]\n",
      "2024-08-31 18:56:37.246561: I tensorflow/core/common_runtime/executor.cc:1197] [/device:CPU:0] (DEBUG INFO) Executor start aborting (this does not indicate an error and you can ignore this message): INVALID_ARGUMENT: You must feed a value for placeholder tensor 'gradients/split_grad/concat/split/split_dim' with dtype int32\n",
      "\t [[{{node gradients/split_grad/concat/split/split_dim}}]]\n",
      "2024-08-31 18:56:37.247125: I tensorflow/core/common_runtime/executor.cc:1197] [/device:CPU:0] (DEBUG INFO) Executor start aborting (this does not indicate an error and you can ignore this message): INVALID_ARGUMENT: You must feed a value for placeholder tensor 'gradients/split_1_grad/concat/split_1/split_dim' with dtype int32\n",
      "\t [[{{node gradients/split_1_grad/concat/split_1/split_dim}}]]\n",
      "2024-08-31 18:56:37.558560: I tensorflow/core/common_runtime/executor.cc:1197] [/device:CPU:0] (DEBUG INFO) Executor start aborting (this does not indicate an error and you can ignore this message): INVALID_ARGUMENT: You must feed a value for placeholder tensor 'gradients/ReverseV2_grad/ReverseV2/ReverseV2/axis' with dtype int32 and shape [1]\n",
      "\t [[{{node gradients/ReverseV2_grad/ReverseV2/ReverseV2/axis}}]]\n",
      "2024-08-31 18:56:37.686573: I tensorflow/core/common_runtime/executor.cc:1197] [/device:CPU:0] (DEBUG INFO) Executor start aborting (this does not indicate an error and you can ignore this message): INVALID_ARGUMENT: You must feed a value for placeholder tensor 'gradients/split_2_grad/concat/split_2/split_dim' with dtype int32\n",
      "\t [[{{node gradients/split_2_grad/concat/split_2/split_dim}}]]\n",
      "2024-08-31 18:56:37.687208: I tensorflow/core/common_runtime/executor.cc:1197] [/device:CPU:0] (DEBUG INFO) Executor start aborting (this does not indicate an error and you can ignore this message): INVALID_ARGUMENT: You must feed a value for placeholder tensor 'gradients/split_grad/concat/split/split_dim' with dtype int32\n",
      "\t [[{{node gradients/split_grad/concat/split/split_dim}}]]\n",
      "2024-08-31 18:56:37.687912: I tensorflow/core/common_runtime/executor.cc:1197] [/device:CPU:0] (DEBUG INFO) Executor start aborting (this does not indicate an error and you can ignore this message): INVALID_ARGUMENT: You must feed a value for placeholder tensor 'gradients/split_1_grad/concat/split_1/split_dim' with dtype int32\n",
      "\t [[{{node gradients/split_1_grad/concat/split_1/split_dim}}]]\n",
      "2024-08-31 18:56:37.757329: I tensorflow/core/common_runtime/executor.cc:1197] [/device:CPU:0] (DEBUG INFO) Executor start aborting (this does not indicate an error and you can ignore this message): INVALID_ARGUMENT: You must feed a value for placeholder tensor 'gradients/ReverseV2_grad/ReverseV2/ReverseV2/axis' with dtype int32 and shape [1]\n",
      "\t [[{{node gradients/ReverseV2_grad/ReverseV2/ReverseV2/axis}}]]\n",
      "2024-08-31 18:56:37.781478: I tensorflow/core/common_runtime/executor.cc:1197] [/device:CPU:0] (DEBUG INFO) Executor start aborting (this does not indicate an error and you can ignore this message): INVALID_ARGUMENT: You must feed a value for placeholder tensor 'gradients/split_2_grad/concat/split_2/split_dim' with dtype int32\n",
      "\t [[{{node gradients/split_2_grad/concat/split_2/split_dim}}]]\n",
      "2024-08-31 18:56:37.782436: I tensorflow/core/common_runtime/executor.cc:1197] [/device:CPU:0] (DEBUG INFO) Executor start aborting (this does not indicate an error and you can ignore this message): INVALID_ARGUMENT: You must feed a value for placeholder tensor 'gradients/split_grad/concat/split/split_dim' with dtype int32\n",
      "\t [[{{node gradients/split_grad/concat/split/split_dim}}]]\n",
      "2024-08-31 18:56:37.783363: I tensorflow/core/common_runtime/executor.cc:1197] [/device:CPU:0] (DEBUG INFO) Executor start aborting (this does not indicate an error and you can ignore this message): INVALID_ARGUMENT: You must feed a value for placeholder tensor 'gradients/split_1_grad/concat/split_1/split_dim' with dtype int32\n",
      "\t [[{{node gradients/split_1_grad/concat/split_1/split_dim}}]]\n",
      "2024-08-31 18:56:37.867064: I tensorflow/core/common_runtime/executor.cc:1197] [/device:CPU:0] (DEBUG INFO) Executor start aborting (this does not indicate an error and you can ignore this message): INVALID_ARGUMENT: You must feed a value for placeholder tensor 'gradients/split_2_grad/concat/split_2/split_dim' with dtype int32\n",
      "\t [[{{node gradients/split_2_grad/concat/split_2/split_dim}}]]\n",
      "2024-08-31 18:56:37.867668: I tensorflow/core/common_runtime/executor.cc:1197] [/device:CPU:0] (DEBUG INFO) Executor start aborting (this does not indicate an error and you can ignore this message): INVALID_ARGUMENT: You must feed a value for placeholder tensor 'gradients/split_grad/concat/split/split_dim' with dtype int32\n",
      "\t [[{{node gradients/split_grad/concat/split/split_dim}}]]\n",
      "2024-08-31 18:56:37.868196: I tensorflow/core/common_runtime/executor.cc:1197] [/device:CPU:0] (DEBUG INFO) Executor start aborting (this does not indicate an error and you can ignore this message): INVALID_ARGUMENT: You must feed a value for placeholder tensor 'gradients/split_1_grad/concat/split_1/split_dim' with dtype int32\n",
      "\t [[{{node gradients/split_1_grad/concat/split_1/split_dim}}]]\n",
      "2024-08-31 18:56:38.168283: I tensorflow/core/common_runtime/executor.cc:1197] [/device:CPU:0] (DEBUG INFO) Executor start aborting (this does not indicate an error and you can ignore this message): INVALID_ARGUMENT: You must feed a value for placeholder tensor 'gradients/ReverseV2_grad/ReverseV2/ReverseV2/axis' with dtype int32 and shape [1]\n",
      "\t [[{{node gradients/ReverseV2_grad/ReverseV2/ReverseV2/axis}}]]\n",
      "2024-08-31 18:56:55.481334: I tensorflow/core/common_runtime/executor.cc:1197] [/device:CPU:0] (DEBUG INFO) Executor start aborting (this does not indicate an error and you can ignore this message): INVALID_ARGUMENT: You must feed a value for placeholder tensor 'gradients/split_2_grad/concat/split_2/split_dim' with dtype int32\n",
      "\t [[{{node gradients/split_2_grad/concat/split_2/split_dim}}]]\n",
      "2024-08-31 18:56:55.481952: I tensorflow/core/common_runtime/executor.cc:1197] [/device:CPU:0] (DEBUG INFO) Executor start aborting (this does not indicate an error and you can ignore this message): INVALID_ARGUMENT: You must feed a value for placeholder tensor 'gradients/split_grad/concat/split/split_dim' with dtype int32\n",
      "\t [[{{node gradients/split_grad/concat/split/split_dim}}]]\n",
      "2024-08-31 18:56:55.482541: I tensorflow/core/common_runtime/executor.cc:1197] [/device:CPU:0] (DEBUG INFO) Executor start aborting (this does not indicate an error and you can ignore this message): INVALID_ARGUMENT: You must feed a value for placeholder tensor 'gradients/split_1_grad/concat/split_1/split_dim' with dtype int32\n",
      "\t [[{{node gradients/split_1_grad/concat/split_1/split_dim}}]]\n",
      "2024-08-31 18:56:55.546742: I tensorflow/core/common_runtime/executor.cc:1197] [/device:CPU:0] (DEBUG INFO) Executor start aborting (this does not indicate an error and you can ignore this message): INVALID_ARGUMENT: You must feed a value for placeholder tensor 'gradients/ReverseV2_grad/ReverseV2/ReverseV2/axis' with dtype int32 and shape [1]\n",
      "\t [[{{node gradients/ReverseV2_grad/ReverseV2/ReverseV2/axis}}]]\n",
      "2024-08-31 18:56:55.571111: I tensorflow/core/common_runtime/executor.cc:1197] [/device:CPU:0] (DEBUG INFO) Executor start aborting (this does not indicate an error and you can ignore this message): INVALID_ARGUMENT: You must feed a value for placeholder tensor 'gradients/split_2_grad/concat/split_2/split_dim' with dtype int32\n",
      "\t [[{{node gradients/split_2_grad/concat/split_2/split_dim}}]]\n",
      "2024-08-31 18:56:55.571715: I tensorflow/core/common_runtime/executor.cc:1197] [/device:CPU:0] (DEBUG INFO) Executor start aborting (this does not indicate an error and you can ignore this message): INVALID_ARGUMENT: You must feed a value for placeholder tensor 'gradients/split_grad/concat/split/split_dim' with dtype int32\n",
      "\t [[{{node gradients/split_grad/concat/split/split_dim}}]]\n",
      "2024-08-31 18:56:55.572331: I tensorflow/core/common_runtime/executor.cc:1197] [/device:CPU:0] (DEBUG INFO) Executor start aborting (this does not indicate an error and you can ignore this message): INVALID_ARGUMENT: You must feed a value for placeholder tensor 'gradients/split_1_grad/concat/split_1/split_dim' with dtype int32\n",
      "\t [[{{node gradients/split_1_grad/concat/split_1/split_dim}}]]\n",
      "2024-08-31 18:56:55.655941: I tensorflow/core/common_runtime/executor.cc:1197] [/device:CPU:0] (DEBUG INFO) Executor start aborting (this does not indicate an error and you can ignore this message): INVALID_ARGUMENT: You must feed a value for placeholder tensor 'gradients/split_2_grad/concat/split_2/split_dim' with dtype int32\n",
      "\t [[{{node gradients/split_2_grad/concat/split_2/split_dim}}]]\n",
      "2024-08-31 18:56:55.656435: I tensorflow/core/common_runtime/executor.cc:1197] [/device:CPU:0] (DEBUG INFO) Executor start aborting (this does not indicate an error and you can ignore this message): INVALID_ARGUMENT: You must feed a value for placeholder tensor 'gradients/split_grad/concat/split/split_dim' with dtype int32\n",
      "\t [[{{node gradients/split_grad/concat/split/split_dim}}]]\n",
      "2024-08-31 18:56:55.656907: I tensorflow/core/common_runtime/executor.cc:1197] [/device:CPU:0] (DEBUG INFO) Executor start aborting (this does not indicate an error and you can ignore this message): INVALID_ARGUMENT: You must feed a value for placeholder tensor 'gradients/split_1_grad/concat/split_1/split_dim' with dtype int32\n",
      "\t [[{{node gradients/split_1_grad/concat/split_1/split_dim}}]]\n"
     ]
    },
    {
     "name": "stdout",
     "output_type": "stream",
     "text": [
      "1534/1534 - 21s - loss: 3632.6260 - val_loss: 3643.6790 - 21s/epoch - 14ms/step\n",
      "Epoch 2/150\n",
      "1534/1534 - 22s - loss: 3554.2117 - val_loss: 3565.6367 - 22s/epoch - 14ms/step\n",
      "Epoch 3/150\n",
      "1534/1534 - 22s - loss: 3476.1809 - val_loss: 3487.6685 - 22s/epoch - 14ms/step\n",
      "Epoch 4/150\n",
      "1534/1534 - 20s - loss: 3398.0935 - val_loss: 3409.7070 - 20s/epoch - 13ms/step\n",
      "Epoch 5/150\n",
      "1534/1534 - 18s - loss: 3320.2246 - val_loss: 3331.7820 - 18s/epoch - 12ms/step\n",
      "Epoch 6/150\n",
      "1534/1534 - 22s - loss: 3242.5303 - val_loss: 3253.8787 - 22s/epoch - 14ms/step\n",
      "Epoch 7/150\n",
      "1534/1534 - 18s - loss: 3164.4653 - val_loss: 3175.9351 - 18s/epoch - 12ms/step\n",
      "Epoch 8/150\n",
      "1534/1534 - 19s - loss: 3086.0605 - val_loss: 3097.9866 - 19s/epoch - 13ms/step\n",
      "Epoch 9/150\n",
      "1534/1534 - 20s - loss: 3008.5422 - val_loss: 3020.0964 - 20s/epoch - 13ms/step\n",
      "Epoch 10/150\n",
      "1534/1534 - 22s - loss: 2930.9553 - val_loss: 2942.2131 - 22s/epoch - 14ms/step\n",
      "Epoch 11/150\n",
      "1534/1534 - 20s - loss: 2852.8494 - val_loss: 2864.3064 - 20s/epoch - 13ms/step\n",
      "Epoch 12/150\n",
      "1534/1534 - 19s - loss: 2774.9216 - val_loss: 2786.4011 - 19s/epoch - 13ms/step\n",
      "Epoch 13/150\n",
      "1534/1534 - 20s - loss: 2696.7661 - val_loss: 2708.4946 - 20s/epoch - 13ms/step\n",
      "Epoch 14/150\n",
      "1534/1534 - 20s - loss: 2619.0479 - val_loss: 2630.6069 - 20s/epoch - 13ms/step\n",
      "Epoch 15/150\n",
      "1534/1534 - 20s - loss: 2540.9294 - val_loss: 2552.7288 - 20s/epoch - 13ms/step\n",
      "Epoch 16/150\n",
      "1534/1534 - 20s - loss: 2463.2092 - val_loss: 2474.8828 - 20s/epoch - 13ms/step\n",
      "Epoch 17/150\n",
      "1534/1534 - 20s - loss: 2385.4136 - val_loss: 2397.0798 - 20s/epoch - 13ms/step\n",
      "Epoch 18/150\n",
      "1534/1534 - 21s - loss: 2308.1685 - val_loss: 2319.6265 - 21s/epoch - 13ms/step\n",
      "Epoch 19/150\n",
      "1534/1534 - 20s - loss: 2231.5339 - val_loss: 2243.2983 - 20s/epoch - 13ms/step\n",
      "Epoch 20/150\n",
      "1534/1534 - 21s - loss: 2158.8330 - val_loss: 2169.1814 - 21s/epoch - 13ms/step\n",
      "Epoch 21/150\n",
      "1534/1534 - 21s - loss: 2085.0698 - val_loss: 2097.7739 - 21s/epoch - 13ms/step\n",
      "Epoch 22/150\n",
      "1534/1534 - 21s - loss: 2014.9128 - val_loss: 2028.6646 - 21s/epoch - 13ms/step\n",
      "Epoch 23/150\n",
      "1534/1534 - 20s - loss: 1948.5271 - val_loss: 1961.4883 - 20s/epoch - 13ms/step\n",
      "Epoch 24/150\n",
      "1534/1534 - 20s - loss: 1881.7776 - val_loss: 1895.9742 - 20s/epoch - 13ms/step\n",
      "Epoch 25/150\n",
      "1534/1534 - 21s - loss: 1817.7217 - val_loss: 1831.9762 - 21s/epoch - 13ms/step\n",
      "Epoch 26/150\n",
      "1534/1534 - 21s - loss: 1755.7185 - val_loss: 1769.6450 - 21s/epoch - 13ms/step\n",
      "Epoch 27/150\n",
      "1534/1534 - 20s - loss: 1695.6195 - val_loss: 1708.7343 - 20s/epoch - 13ms/step\n",
      "Epoch 28/150\n",
      "1534/1534 - 21s - loss: 1635.9705 - val_loss: 1649.1661 - 21s/epoch - 13ms/step\n",
      "Epoch 29/150\n",
      "1534/1534 - 20s - loss: 1579.0227 - val_loss: 1591.2030 - 20s/epoch - 13ms/step\n",
      "Epoch 30/150\n",
      "1534/1534 - 21s - loss: 1523.6971 - val_loss: 1535.0999 - 21s/epoch - 13ms/step\n",
      "Epoch 31/150\n",
      "1534/1534 - 21s - loss: 1470.7317 - val_loss: 1480.8593 - 21s/epoch - 13ms/step\n",
      "Epoch 32/150\n",
      "1534/1534 - 20s - loss: 1419.4719 - val_loss: 1428.5022 - 20s/epoch - 13ms/step\n",
      "Epoch 33/150\n",
      "1534/1534 - 20s - loss: 1370.8230 - val_loss: 1377.9485 - 20s/epoch - 13ms/step\n",
      "Epoch 34/150\n",
      "1534/1534 - 20s - loss: 1321.7941 - val_loss: 1329.7661 - 20s/epoch - 13ms/step\n",
      "Epoch 35/150\n",
      "1534/1534 - 21s - loss: 1277.6564 - val_loss: 1284.0842 - 21s/epoch - 13ms/step\n",
      "Epoch 36/150\n",
      "1534/1534 - 21s - loss: 1237.0527 - val_loss: 1240.9197 - 21s/epoch - 13ms/step\n",
      "Epoch 37/150\n",
      "1534/1534 - 21s - loss: 1198.8937 - val_loss: 1201.0449 - 21s/epoch - 13ms/step\n",
      "Epoch 38/150\n",
      "1534/1534 - 21s - loss: 1163.0271 - val_loss: 1164.8385 - 21s/epoch - 13ms/step\n",
      "Epoch 39/150\n",
      "1534/1534 - 21s - loss: 1130.6715 - val_loss: 1132.1860 - 21s/epoch - 13ms/step\n",
      "Epoch 40/150\n",
      "1534/1534 - 21s - loss: 1105.6051 - val_loss: 1103.4222 - 21s/epoch - 13ms/step\n",
      "Epoch 41/150\n",
      "1534/1534 - 20s - loss: 1080.2319 - val_loss: 1078.2162 - 20s/epoch - 13ms/step\n",
      "Epoch 42/150\n",
      "1534/1534 - 21s - loss: 1060.8549 - val_loss: 1056.9879 - 21s/epoch - 13ms/step\n",
      "Epoch 43/150\n",
      "1534/1534 - 22s - loss: 1041.0278 - val_loss: 1039.3389 - 22s/epoch - 14ms/step\n",
      "Epoch 44/150\n",
      "1534/1534 - 21s - loss: 1030.2775 - val_loss: 1025.2411 - 21s/epoch - 13ms/step\n",
      "Epoch 45/150\n",
      "1534/1534 - 22s - loss: 1021.2195 - val_loss: 1013.9750 - 22s/epoch - 14ms/step\n",
      "Epoch 46/150\n",
      "1534/1534 - 21s - loss: 1011.5537 - val_loss: 1005.5224 - 21s/epoch - 14ms/step\n",
      "Epoch 47/150\n",
      "1534/1534 - 21s - loss: 1006.6929 - val_loss: 999.4442 - 21s/epoch - 13ms/step\n",
      "Epoch 48/150\n",
      "1534/1534 - 21s - loss: 967.6382 - val_loss: 945.4657 - 21s/epoch - 14ms/step\n",
      "Epoch 49/150\n",
      "1534/1534 - 21s - loss: 898.6784 - val_loss: 868.8260 - 21s/epoch - 13ms/step\n",
      "Epoch 50/150\n",
      "1534/1534 - 20s - loss: 857.2034 - val_loss: 844.1558 - 20s/epoch - 13ms/step\n",
      "Epoch 51/150\n",
      "1534/1534 - 21s - loss: 830.5123 - val_loss: 804.8664 - 21s/epoch - 13ms/step\n",
      "Epoch 52/150\n",
      "1534/1534 - 21s - loss: 802.3346 - val_loss: 782.4336 - 21s/epoch - 13ms/step\n",
      "Epoch 53/150\n",
      "1534/1534 - 21s - loss: 780.7405 - val_loss: 760.6877 - 21s/epoch - 14ms/step\n",
      "Epoch 54/150\n",
      "1534/1534 - 21s - loss: 761.0597 - val_loss: 738.4160 - 21s/epoch - 14ms/step\n",
      "Epoch 55/150\n",
      "1534/1534 - 21s - loss: 741.3005 - val_loss: 723.2887 - 21s/epoch - 13ms/step\n",
      "Epoch 56/150\n",
      "1534/1534 - 21s - loss: 725.5149 - val_loss: 701.8416 - 21s/epoch - 13ms/step\n",
      "Epoch 57/150\n",
      "1534/1534 - 21s - loss: 710.5116 - val_loss: 687.9023 - 21s/epoch - 14ms/step\n",
      "Epoch 58/150\n",
      "1534/1534 - 21s - loss: 696.4414 - val_loss: 681.8387 - 21s/epoch - 14ms/step\n",
      "Epoch 59/150\n",
      "1534/1534 - 21s - loss: 685.3762 - val_loss: 663.6959 - 21s/epoch - 14ms/step\n",
      "Epoch 60/150\n",
      "1534/1534 - 21s - loss: 672.4067 - val_loss: 649.9152 - 21s/epoch - 14ms/step\n",
      "Epoch 61/150\n",
      "1534/1534 - 20s - loss: 665.4734 - val_loss: 639.6204 - 20s/epoch - 13ms/step\n",
      "Epoch 62/150\n",
      "1534/1534 - 21s - loss: 656.9010 - val_loss: 626.7262 - 21s/epoch - 14ms/step\n",
      "Epoch 63/150\n",
      "1534/1534 - 21s - loss: 646.6920 - val_loss: 618.7031 - 21s/epoch - 14ms/step\n",
      "Epoch 64/150\n",
      "1534/1534 - 23s - loss: 640.1119 - val_loss: 610.8840 - 23s/epoch - 15ms/step\n",
      "Epoch 65/150\n",
      "1534/1534 - 20s - loss: 632.9398 - val_loss: 604.8334 - 20s/epoch - 13ms/step\n",
      "Epoch 66/150\n",
      "1534/1534 - 21s - loss: 625.9708 - val_loss: 592.4844 - 21s/epoch - 14ms/step\n",
      "Epoch 67/150\n",
      "1534/1534 - 20s - loss: 620.2649 - val_loss: 589.7725 - 20s/epoch - 13ms/step\n",
      "Epoch 68/150\n",
      "1534/1534 - 19s - loss: 617.5651 - val_loss: 602.3371 - 19s/epoch - 12ms/step\n",
      "Epoch 69/150\n",
      "1534/1534 - 23s - loss: 614.1655 - val_loss: 577.9213 - 23s/epoch - 15ms/step\n",
      "Epoch 70/150\n",
      "1534/1534 - 24s - loss: 609.2776 - val_loss: 576.1440 - 24s/epoch - 16ms/step\n",
      "Epoch 71/150\n",
      "1534/1534 - 21s - loss: 605.4619 - val_loss: 570.0774 - 21s/epoch - 13ms/step\n",
      "Epoch 72/150\n",
      "1534/1534 - 23s - loss: 603.4319 - val_loss: 566.2892 - 23s/epoch - 15ms/step\n",
      "Epoch 73/150\n",
      "1534/1534 - 24s - loss: 599.1839 - val_loss: 562.0756 - 24s/epoch - 16ms/step\n",
      "Epoch 74/150\n",
      "1534/1534 - 24s - loss: 598.5879 - val_loss: 559.8260 - 24s/epoch - 16ms/step\n",
      "Epoch 75/150\n",
      "1534/1534 - 22s - loss: 596.7109 - val_loss: 559.3768 - 22s/epoch - 15ms/step\n",
      "Epoch 76/150\n",
      "1534/1534 - 21s - loss: 595.3082 - val_loss: 557.4278 - 21s/epoch - 14ms/step\n",
      "Epoch 77/150\n",
      "1534/1534 - 20s - loss: 593.3023 - val_loss: 552.0768 - 20s/epoch - 13ms/step\n",
      "Epoch 78/150\n",
      "1534/1534 - 24s - loss: 589.6257 - val_loss: 552.6946 - 24s/epoch - 16ms/step\n",
      "Epoch 79/150\n",
      "1534/1534 - 24s - loss: 590.4149 - val_loss: 549.9223 - 24s/epoch - 15ms/step\n",
      "Epoch 80/150\n",
      "1534/1534 - 22s - loss: 591.2713 - val_loss: 567.0459 - 22s/epoch - 14ms/step\n",
      "Epoch 81/150\n",
      "1534/1534 - 19s - loss: 600.5519 - val_loss: 566.7664 - 19s/epoch - 13ms/step\n",
      "Epoch 82/150\n",
      "1534/1534 - 20s - loss: 592.4802 - val_loss: 544.9809 - 20s/epoch - 13ms/step\n",
      "Epoch 83/150\n",
      "1534/1534 - 18s - loss: 584.6534 - val_loss: 542.9661 - 18s/epoch - 12ms/step\n",
      "Epoch 84/150\n",
      "1534/1534 - 23s - loss: 583.6478 - val_loss: 548.1390 - 23s/epoch - 15ms/step\n",
      "Epoch 85/150\n",
      "1534/1534 - 23s - loss: 582.1187 - val_loss: 543.5060 - 23s/epoch - 15ms/step\n",
      "Epoch 86/150\n",
      "1534/1534 - 20s - loss: 581.9965 - val_loss: 540.5918 - 20s/epoch - 13ms/step\n",
      "Epoch 87/150\n",
      "1534/1534 - 23s - loss: 578.7098 - val_loss: 538.0494 - 23s/epoch - 15ms/step\n",
      "Epoch 88/150\n",
      "1534/1534 - 23s - loss: 581.8680 - val_loss: 544.3167 - 23s/epoch - 15ms/step\n",
      "Epoch 89/150\n",
      "1534/1534 - 22s - loss: 581.5870 - val_loss: 539.8813 - 22s/epoch - 14ms/step\n",
      "Epoch 90/150\n",
      "1534/1534 - 20s - loss: 579.0110 - val_loss: 544.2009 - 20s/epoch - 13ms/step\n"
     ]
    },
    {
     "data": {
      "text/plain": [
       "<keras.callbacks.History at 0x30c03b7d0>"
      ]
     },
     "execution_count": 66,
     "metadata": {},
     "output_type": "execute_result"
    }
   ],
   "source": [
    "from keras.models import Sequential\n",
    "from keras.layers import LSTM, Dense, Dropout, Bidirectional\n",
    "\n",
    "model = Sequential()\n",
    "model.add(Bidirectional(LSTM(100, return_sequences=True, input_shape=(train_X.shape[1], train_X.shape[2]))))\n",
    "model.add(Dropout(0.2))\n",
    "model.add(LSTM(50))\n",
    "model.add(Dropout(0.2))\n",
    "model.add(Dense(1))\n",
    "\n",
    "model.compile(loss='mean_absolute_error', optimizer='adam')\n",
    "\n",
    "model.fit(train_X, train_y, epochs=150, batch_size=32, validation_data=(test_X, test_y), verbose=2, shuffle=False, callbacks=[tensorboard, early_stopping])"
   ]
  },
  {
   "cell_type": "code",
   "execution_count": null,
   "metadata": {},
   "outputs": [
    {
     "name": "stderr",
     "output_type": "stream",
     "text": [
      "2024-08-31 19:29:03.920843: I tensorflow/core/common_runtime/executor.cc:1197] [/device:CPU:0] (DEBUG INFO) Executor start aborting (this does not indicate an error and you can ignore this message): INVALID_ARGUMENT: You must feed a value for placeholder tensor 'gradients/split_2_grad/concat/split_2/split_dim' with dtype int32\n",
      "\t [[{{node gradients/split_2_grad/concat/split_2/split_dim}}]]\n",
      "2024-08-31 19:29:03.921713: I tensorflow/core/common_runtime/executor.cc:1197] [/device:CPU:0] (DEBUG INFO) Executor start aborting (this does not indicate an error and you can ignore this message): INVALID_ARGUMENT: You must feed a value for placeholder tensor 'gradients/split_grad/concat/split/split_dim' with dtype int32\n",
      "\t [[{{node gradients/split_grad/concat/split/split_dim}}]]\n",
      "2024-08-31 19:29:03.922312: I tensorflow/core/common_runtime/executor.cc:1197] [/device:CPU:0] (DEBUG INFO) Executor start aborting (this does not indicate an error and you can ignore this message): INVALID_ARGUMENT: You must feed a value for placeholder tensor 'gradients/split_1_grad/concat/split_1/split_dim' with dtype int32\n",
      "\t [[{{node gradients/split_1_grad/concat/split_1/split_dim}}]]\n",
      "2024-08-31 19:29:03.995680: I tensorflow/core/common_runtime/executor.cc:1197] [/device:CPU:0] (DEBUG INFO) Executor start aborting (this does not indicate an error and you can ignore this message): INVALID_ARGUMENT: You must feed a value for placeholder tensor 'gradients/ReverseV2_grad/ReverseV2/ReverseV2/axis' with dtype int32 and shape [1]\n",
      "\t [[{{node gradients/ReverseV2_grad/ReverseV2/ReverseV2/axis}}]]\n",
      "2024-08-31 19:29:04.018786: I tensorflow/core/common_runtime/executor.cc:1197] [/device:CPU:0] (DEBUG INFO) Executor start aborting (this does not indicate an error and you can ignore this message): INVALID_ARGUMENT: You must feed a value for placeholder tensor 'gradients/split_2_grad/concat/split_2/split_dim' with dtype int32\n",
      "\t [[{{node gradients/split_2_grad/concat/split_2/split_dim}}]]\n",
      "2024-08-31 19:29:04.019452: I tensorflow/core/common_runtime/executor.cc:1197] [/device:CPU:0] (DEBUG INFO) Executor start aborting (this does not indicate an error and you can ignore this message): INVALID_ARGUMENT: You must feed a value for placeholder tensor 'gradients/split_grad/concat/split/split_dim' with dtype int32\n",
      "\t [[{{node gradients/split_grad/concat/split/split_dim}}]]\n",
      "2024-08-31 19:29:04.020040: I tensorflow/core/common_runtime/executor.cc:1197] [/device:CPU:0] (DEBUG INFO) Executor start aborting (this does not indicate an error and you can ignore this message): INVALID_ARGUMENT: You must feed a value for placeholder tensor 'gradients/split_1_grad/concat/split_1/split_dim' with dtype int32\n",
      "\t [[{{node gradients/split_1_grad/concat/split_1/split_dim}}]]\n",
      "2024-08-31 19:29:04.102873: I tensorflow/core/common_runtime/executor.cc:1197] [/device:CPU:0] (DEBUG INFO) Executor start aborting (this does not indicate an error and you can ignore this message): INVALID_ARGUMENT: You must feed a value for placeholder tensor 'gradients/split_2_grad/concat/split_2/split_dim' with dtype int32\n",
      "\t [[{{node gradients/split_2_grad/concat/split_2/split_dim}}]]\n",
      "2024-08-31 19:29:04.103487: I tensorflow/core/common_runtime/executor.cc:1197] [/device:CPU:0] (DEBUG INFO) Executor start aborting (this does not indicate an error and you can ignore this message): INVALID_ARGUMENT: You must feed a value for placeholder tensor 'gradients/split_grad/concat/split/split_dim' with dtype int32\n",
      "\t [[{{node gradients/split_grad/concat/split/split_dim}}]]\n",
      "2024-08-31 19:29:04.104062: I tensorflow/core/common_runtime/executor.cc:1197] [/device:CPU:0] (DEBUG INFO) Executor start aborting (this does not indicate an error and you can ignore this message): INVALID_ARGUMENT: You must feed a value for placeholder tensor 'gradients/split_1_grad/concat/split_1/split_dim' with dtype int32\n",
      "\t [[{{node gradients/split_1_grad/concat/split_1/split_dim}}]]\n"
     ]
    },
    {
     "name": "stdout",
     "output_type": "stream",
     "text": [
      "384/384 [==============================] - 2s 4ms/step\n"
     ]
    },
    {
     "data": {
      "text/plain": [
       "544.2008"
      ]
     },
     "execution_count": 67,
     "metadata": {},
     "output_type": "execute_result"
    }
   ],
   "source": [
    "y_preds = model.predict(test_X)\n",
    "mean_absolute_error(y_preds, test_y)"
   ]
  },
  {
   "cell_type": "code",
   "execution_count": null,
   "metadata": {},
   "outputs": [
    {
     "data": {
      "text/plain": [
       "0.50846266746521"
      ]
     },
     "execution_count": 69,
     "metadata": {},
     "output_type": "execute_result"
    }
   ],
   "source": [
    "r2_score(y_preds, test_y)"
   ]
  },
  {
   "cell_type": "code",
   "execution_count": null,
   "metadata": {},
   "outputs": [],
   "source": []
  }
 ],
 "metadata": {
  "kernelspec": {
   "display_name": "Python 3",
   "language": "python",
   "name": "python3"
  },
  "language_info": {
   "codemirror_mode": {
    "name": "ipython",
    "version": 3
   },
   "file_extension": ".py",
   "mimetype": "text/x-python",
   "name": "python",
   "nbconvert_exporter": "python",
   "pygments_lexer": "ipython3",
   "version": "3.11.5"
  }
 },
 "nbformat": 4,
 "nbformat_minor": 2
}
